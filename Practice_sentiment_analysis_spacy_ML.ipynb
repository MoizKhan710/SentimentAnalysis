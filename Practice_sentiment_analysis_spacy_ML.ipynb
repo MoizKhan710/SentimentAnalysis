{
 "cells": [
  {
   "cell_type": "markdown",
   "metadata": {},
   "source": [
    "# Dataset Link: https://www.kaggle.com/datasets/sid321axn/amazon-alexa-reviews\n",
    "\n",
    "TO CLASSIFY THE FEEDBACK GIVEN BY USERS ON ALEXA USING MACHINE LEARNING MODEL,AND GET THE BEST ACCURACY SCORE."
   ]
  },
  {
   "cell_type": "code",
   "execution_count": 1,
   "metadata": {
    "id": "3wCVJ0DSwiy2"
   },
   "outputs": [],
   "source": [
    "import pandas as pd\n",
    "df = pd.read_csv(\"amazon_alexa.tsv\",sep=\"\\t\")"
   ]
  },
  {
   "cell_type": "code",
   "execution_count": 2,
   "metadata": {
    "colab": {
     "base_uri": "https://localhost:8080/"
    },
    "id": "hg5dP85kxFEc",
    "outputId": "68de847c-5e9b-4b02-96a2-88410e4c17ef"
   },
   "outputs": [
    {
     "name": "stdout",
     "output_type": "stream",
     "text": [
      "<class 'pandas.core.frame.DataFrame'>\n",
      "RangeIndex: 3150 entries, 0 to 3149\n",
      "Data columns (total 5 columns):\n",
      " #   Column            Non-Null Count  Dtype \n",
      "---  ------            --------------  ----- \n",
      " 0   rating            3150 non-null   int64 \n",
      " 1   date              3150 non-null   object\n",
      " 2   variation         3150 non-null   object\n",
      " 3   verified_reviews  3150 non-null   object\n",
      " 4   feedback          3150 non-null   int64 \n",
      "dtypes: int64(2), object(3)\n",
      "memory usage: 123.2+ KB\n"
     ]
    }
   ],
   "source": [
    "df.info()"
   ]
  },
  {
   "cell_type": "code",
   "execution_count": 3,
   "metadata": {
    "colab": {
     "base_uri": "https://localhost:8080/",
     "height": 206
    },
    "id": "XhBrzHcYxG4U",
    "outputId": "6540cb43-33fc-429e-9985-0e49c9b2ab80"
   },
   "outputs": [
    {
     "data": {
      "text/html": [
       "<div>\n",
       "<style scoped>\n",
       "    .dataframe tbody tr th:only-of-type {\n",
       "        vertical-align: middle;\n",
       "    }\n",
       "\n",
       "    .dataframe tbody tr th {\n",
       "        vertical-align: top;\n",
       "    }\n",
       "\n",
       "    .dataframe thead th {\n",
       "        text-align: right;\n",
       "    }\n",
       "</style>\n",
       "<table border=\"1\" class=\"dataframe\">\n",
       "  <thead>\n",
       "    <tr style=\"text-align: right;\">\n",
       "      <th></th>\n",
       "      <th>rating</th>\n",
       "      <th>date</th>\n",
       "      <th>variation</th>\n",
       "      <th>verified_reviews</th>\n",
       "      <th>feedback</th>\n",
       "    </tr>\n",
       "  </thead>\n",
       "  <tbody>\n",
       "    <tr>\n",
       "      <th>0</th>\n",
       "      <td>5</td>\n",
       "      <td>31-Jul-18</td>\n",
       "      <td>Charcoal Fabric</td>\n",
       "      <td>Love my Echo!</td>\n",
       "      <td>1</td>\n",
       "    </tr>\n",
       "    <tr>\n",
       "      <th>1</th>\n",
       "      <td>5</td>\n",
       "      <td>31-Jul-18</td>\n",
       "      <td>Charcoal Fabric</td>\n",
       "      <td>Loved it!</td>\n",
       "      <td>1</td>\n",
       "    </tr>\n",
       "    <tr>\n",
       "      <th>2</th>\n",
       "      <td>4</td>\n",
       "      <td>31-Jul-18</td>\n",
       "      <td>Walnut Finish</td>\n",
       "      <td>Sometimes while playing a game, you can answer...</td>\n",
       "      <td>1</td>\n",
       "    </tr>\n",
       "    <tr>\n",
       "      <th>3</th>\n",
       "      <td>5</td>\n",
       "      <td>31-Jul-18</td>\n",
       "      <td>Charcoal Fabric</td>\n",
       "      <td>I have had a lot of fun with this thing. My 4 ...</td>\n",
       "      <td>1</td>\n",
       "    </tr>\n",
       "    <tr>\n",
       "      <th>4</th>\n",
       "      <td>5</td>\n",
       "      <td>31-Jul-18</td>\n",
       "      <td>Charcoal Fabric</td>\n",
       "      <td>Music</td>\n",
       "      <td>1</td>\n",
       "    </tr>\n",
       "  </tbody>\n",
       "</table>\n",
       "</div>"
      ],
      "text/plain": [
       "   rating       date         variation  \\\n",
       "0       5  31-Jul-18  Charcoal Fabric    \n",
       "1       5  31-Jul-18  Charcoal Fabric    \n",
       "2       4  31-Jul-18    Walnut Finish    \n",
       "3       5  31-Jul-18  Charcoal Fabric    \n",
       "4       5  31-Jul-18  Charcoal Fabric    \n",
       "\n",
       "                                    verified_reviews  feedback  \n",
       "0                                      Love my Echo!         1  \n",
       "1                                          Loved it!         1  \n",
       "2  Sometimes while playing a game, you can answer...         1  \n",
       "3  I have had a lot of fun with this thing. My 4 ...         1  \n",
       "4                                              Music         1  "
      ]
     },
     "execution_count": 3,
     "metadata": {},
     "output_type": "execute_result"
    }
   ],
   "source": [
    "df.head()"
   ]
  },
  {
   "cell_type": "code",
   "execution_count": 4,
   "metadata": {
    "colab": {
     "base_uri": "https://localhost:8080/"
    },
    "id": "nQRpjYqsxLEA",
    "outputId": "a48e7dbd-83d2-4c73-e3fb-7bcdd2c8b50e"
   },
   "outputs": [
    {
     "data": {
      "text/plain": [
       "rating                 5\n",
       "date                  77\n",
       "variation             16\n",
       "verified_reviews    2301\n",
       "feedback               2\n",
       "dtype: int64"
      ]
     },
     "execution_count": 4,
     "metadata": {},
     "output_type": "execute_result"
    }
   ],
   "source": [
    "df.nunique()"
   ]
  },
  {
   "cell_type": "markdown",
   "metadata": {
    "id": "shjRhJodznor"
   },
   "source": [
    "# Check rating distribution"
   ]
  },
  {
   "cell_type": "code",
   "execution_count": 5,
   "metadata": {
    "colab": {
     "base_uri": "https://localhost:8080/"
    },
    "id": "Yb_22dmEyDKD",
    "outputId": "6cc21a36-1dc6-47ac-f140-582570ddc043"
   },
   "outputs": [
    {
     "data": {
      "text/plain": [
       "5    2286\n",
       "4     455\n",
       "1     161\n",
       "3     152\n",
       "2      96\n",
       "Name: rating, dtype: int64"
      ]
     },
     "execution_count": 5,
     "metadata": {},
     "output_type": "execute_result"
    }
   ],
   "source": [
    "df['rating'].value_counts()"
   ]
  },
  {
   "cell_type": "code",
   "execution_count": 6,
   "metadata": {
    "colab": {
     "base_uri": "https://localhost:8080/"
    },
    "id": "UawI-pUEylWB",
    "outputId": "76323189-36c9-4cf5-bd97-750b136f43a9"
   },
   "outputs": [
    {
     "data": {
      "text/plain": [
       "0                                        Love my Echo!\n",
       "1                                            Loved it!\n",
       "3    I have had a lot of fun with this thing. My 4 ...\n",
       "4                                                Music\n",
       "5    I received the echo as a gift. I needed anothe...\n",
       "Name: verified_reviews, dtype: object"
      ]
     },
     "execution_count": 6,
     "metadata": {},
     "output_type": "execute_result"
    }
   ],
   "source": [
    "df.loc[df['rating'] == 5, 'verified_reviews'].head()"
   ]
  },
  {
   "cell_type": "code",
   "execution_count": 7,
   "metadata": {
    "colab": {
     "base_uri": "https://localhost:8080/"
    },
    "id": "4zfOXBWCym_-",
    "outputId": "46411f68-e316-4daa-91ac-eb4c5985a154"
   },
   "outputs": [
    {
     "data": {
      "text/plain": [
       "2     Sometimes while playing a game, you can answer...\n",
       "19    I liked the original Echo. This is the same bu...\n",
       "22    Have only had it set up for a few days. Still ...\n",
       "28    Fun item to play with and get used to using.  ...\n",
       "31                                            I like it\n",
       "Name: verified_reviews, dtype: object"
      ]
     },
     "execution_count": 7,
     "metadata": {},
     "output_type": "execute_result"
    }
   ],
   "source": [
    "df.loc[df['rating'] == 4, 'verified_reviews'].head()"
   ]
  },
  {
   "cell_type": "code",
   "execution_count": 8,
   "metadata": {
    "colab": {
     "base_uri": "https://localhost:8080/"
    },
    "id": "1U6erixDyQ35",
    "outputId": "4422a6a1-6530-4217-ed3d-0c77f79b0d25"
   },
   "outputs": [
    {
     "data": {
      "text/plain": [
       "6     Without having a cellphone, I cannot use many ...\n",
       "24    I got a second unit for the bedroom, I was exp...\n",
       "33    The speakers sound pretty good for being so sm...\n",
       "49    No different than Apple. To play a specific li...\n",
       "54                                   like google better\n",
       "Name: verified_reviews, dtype: object"
      ]
     },
     "execution_count": 8,
     "metadata": {},
     "output_type": "execute_result"
    }
   ],
   "source": [
    "df.loc[df['rating'] == 3, 'verified_reviews'].head()"
   ]
  },
  {
   "cell_type": "code",
   "execution_count": 9,
   "metadata": {
    "colab": {
     "base_uri": "https://localhost:8080/"
    },
    "id": "qdSSlomVyj5V",
    "outputId": "c31d6794-13a5-4274-9c12-ca25163c57de"
   },
   "outputs": [
    {
     "data": {
      "text/plain": [
       "46     It's like Siri, in fact, Siri answers more acc...\n",
       "111    Sound is terrible if u want good music too get...\n",
       "176                                 Sad joke. Worthless.\n",
       "187    Really disappointed Alexa has to be plug-in to...\n",
       "205    It's got great sound and bass but it doesn't w...\n",
       "Name: verified_reviews, dtype: object"
      ]
     },
     "execution_count": 9,
     "metadata": {},
     "output_type": "execute_result"
    }
   ],
   "source": [
    "df.loc[df['rating'] == 2, 'verified_reviews'].head()"
   ]
  },
  {
   "cell_type": "code",
   "execution_count": 10,
   "metadata": {
    "colab": {
     "base_uri": "https://localhost:8080/"
    },
    "id": "jxOo7ugYyrHf",
    "outputId": "8c5b0c54-fc7b-49d7-d47b-6c714a126367"
   },
   "outputs": [
    {
     "data": {
      "text/plain": [
       "141                                   Not much features.\n",
       "162    Stopped working after 2 weeks ,didn't follow c...\n",
       "341                               Alexa hardly came on..\n",
       "350    Item no longer works after just 5 months of us...\n",
       "361    This thing barely works. You have to select 3r...\n",
       "Name: verified_reviews, dtype: object"
      ]
     },
     "execution_count": 10,
     "metadata": {},
     "output_type": "execute_result"
    }
   ],
   "source": [
    "df.loc[df['rating'] == 1, 'verified_reviews'].head()"
   ]
  },
  {
   "cell_type": "markdown",
   "metadata": {
    "id": "1NU4BU1czgb9"
   },
   "source": [
    "# Check Feedback distribution"
   ]
  },
  {
   "cell_type": "code",
   "execution_count": 11,
   "metadata": {
    "colab": {
     "base_uri": "https://localhost:8080/"
    },
    "id": "V6nqDAYyzMyY",
    "outputId": "8fe71b96-cba8-407a-c0d2-6eba11a5011d"
   },
   "outputs": [
    {
     "data": {
      "text/plain": [
       "1    2893\n",
       "0     257\n",
       "Name: feedback, dtype: int64"
      ]
     },
     "execution_count": 11,
     "metadata": {},
     "output_type": "execute_result"
    }
   ],
   "source": [
    "df['feedback'].value_counts()"
   ]
  },
  {
   "cell_type": "code",
   "execution_count": 12,
   "metadata": {
    "colab": {
     "base_uri": "https://localhost:8080/"
    },
    "id": "8ZFbczsmytOC",
    "outputId": "6058e9cc-634a-4469-c70b-02038b02bb8e"
   },
   "outputs": [
    {
     "data": {
      "text/plain": [
       "0                                        Love my Echo!\n",
       "1                                            Loved it!\n",
       "2    Sometimes while playing a game, you can answer...\n",
       "3    I have had a lot of fun with this thing. My 4 ...\n",
       "4                                                Music\n",
       "Name: verified_reviews, dtype: object"
      ]
     },
     "execution_count": 12,
     "metadata": {},
     "output_type": "execute_result"
    }
   ],
   "source": [
    "df.loc[df['feedback'] == 1, 'verified_reviews'].head()"
   ]
  },
  {
   "cell_type": "code",
   "execution_count": 13,
   "metadata": {
    "colab": {
     "base_uri": "https://localhost:8080/"
    },
    "id": "DWVoT9PPzEgC",
    "outputId": "a1b57fb1-8519-4984-a6bf-0174a13f7a77"
   },
   "outputs": [
    {
     "data": {
      "text/plain": [
       "46     It's like Siri, in fact, Siri answers more acc...\n",
       "111    Sound is terrible if u want good music too get...\n",
       "141                                   Not much features.\n",
       "162    Stopped working after 2 weeks ,didn't follow c...\n",
       "176                                 Sad joke. Worthless.\n",
       "Name: verified_reviews, dtype: object"
      ]
     },
     "execution_count": 13,
     "metadata": {},
     "output_type": "execute_result"
    }
   ],
   "source": [
    "df.loc[df['feedback'] == 0, 'verified_reviews'].head()"
   ]
  },
  {
   "cell_type": "markdown",
   "metadata": {
    "id": "QcrgG3A6zjwg"
   },
   "source": [
    "# Select feedback as target column"
   ]
  },
  {
   "cell_type": "markdown",
   "metadata": {
    "id": "PgmQd1NG0c5n"
   },
   "source": [
    "# Add few more relevant features other than text"
   ]
  },
  {
   "cell_type": "code",
   "execution_count": 14,
   "metadata": {
    "id": "WNK3Mckx0hcR"
   },
   "outputs": [],
   "source": [
    "# length of the text\n",
    "df['length'] = df['verified_reviews'].str.len()"
   ]
  },
  {
   "cell_type": "code",
   "execution_count": 15,
   "metadata": {
    "colab": {
     "base_uri": "https://localhost:8080/"
    },
    "id": "zAjPZY_V0zyf",
    "outputId": "97303cc3-1052-45f6-a411-e1f25099e363"
   },
   "outputs": [
    {
     "data": {
      "text/plain": [
       "count     257.000000\n",
       "mean      215.241245\n",
       "std       236.325955\n",
       "min         1.000000\n",
       "25%        53.000000\n",
       "50%       137.000000\n",
       "75%       289.000000\n",
       "max      1686.000000\n",
       "Name: length, dtype: float64"
      ]
     },
     "execution_count": 15,
     "metadata": {},
     "output_type": "execute_result"
    }
   ],
   "source": [
    "df.loc[df['feedback'] == 0,'length'].describe()"
   ]
  },
  {
   "cell_type": "code",
   "execution_count": 16,
   "metadata": {
    "colab": {
     "base_uri": "https://localhost:8080/"
    },
    "id": "2oI4vwbC0-5J",
    "outputId": "ebd2e299-bcea-4178-f0e7-637afb3b17f8"
   },
   "outputs": [
    {
     "data": {
      "text/plain": [
       "count    2893.000000\n",
       "mean      124.659177\n",
       "std       174.624491\n",
       "min         1.000000\n",
       "25%        29.000000\n",
       "50%        69.000000\n",
       "75%       154.000000\n",
       "max      2851.000000\n",
       "Name: length, dtype: float64"
      ]
     },
     "execution_count": 16,
     "metadata": {},
     "output_type": "execute_result"
    }
   ],
   "source": [
    "df.loc[df['feedback'] == 1,'length'].describe()"
   ]
  },
  {
   "cell_type": "code",
   "execution_count": 17,
   "metadata": {
    "id": "OxerCVML1Oeq"
   },
   "outputs": [],
   "source": [
    "df['no_of_words'] = df['verified_reviews'].apply(lambda s: len(s.split()))"
   ]
  },
  {
   "cell_type": "code",
   "execution_count": 18,
   "metadata": {
    "colab": {
     "base_uri": "https://localhost:8080/"
    },
    "id": "6OpKTaEx1fg-",
    "outputId": "de95448a-05a9-4615-fc2c-2578c9960c2e"
   },
   "outputs": [
    {
     "data": {
      "text/plain": [
       "count    257.000000\n",
       "mean      40.256809\n",
       "std       43.983087\n",
       "min        0.000000\n",
       "25%       10.000000\n",
       "50%       26.000000\n",
       "75%       54.000000\n",
       "max      307.000000\n",
       "Name: no_of_words, dtype: float64"
      ]
     },
     "execution_count": 18,
     "metadata": {},
     "output_type": "execute_result"
    }
   ],
   "source": [
    "df.loc[df['feedback'] == 0,'no_of_words'].describe()"
   ]
  },
  {
   "cell_type": "code",
   "execution_count": 19,
   "metadata": {
    "colab": {
     "base_uri": "https://localhost:8080/"
    },
    "id": "jVeMUgPt1jvy",
    "outputId": "60566452-2f52-48c8-b011-825cf500602a"
   },
   "outputs": [
    {
     "data": {
      "text/plain": [
       "count    2893.000000\n",
       "mean       23.963705\n",
       "std        33.309237\n",
       "min         0.000000\n",
       "25%         5.000000\n",
       "50%        13.000000\n",
       "75%        30.000000\n",
       "max       526.000000\n",
       "Name: no_of_words, dtype: float64"
      ]
     },
     "execution_count": 19,
     "metadata": {},
     "output_type": "execute_result"
    }
   ],
   "source": [
    "df.loc[df['feedback'] == 1,'no_of_words'].describe()"
   ]
  },
  {
   "cell_type": "markdown",
   "metadata": {
    "id": "ciUZT2Oy18he"
   },
   "source": [
    "#### Try violin plot of feedback vs no_of_words   and feedback vs length"
   ]
  },
  {
   "cell_type": "code",
   "execution_count": 20,
   "metadata": {
    "colab": {
     "base_uri": "https://localhost:8080/",
     "height": 296
    },
    "id": "fF6pctuU2ZJ3",
    "outputId": "0cca5b59-b221-46ba-936f-3b08c805a082"
   },
   "outputs": [
    {
     "data": {
      "text/plain": [
       "<AxesSubplot:xlabel='feedback', ylabel='no_of_words'>"
      ]
     },
     "execution_count": 20,
     "metadata": {},
     "output_type": "execute_result"
    },
    {
     "data": {
      "image/png": "[encoded data removed]",
      "text/plain": [
       "<Figure size 432x288 with 1 Axes>"
      ]
     },
     "metadata": {
      "needs_background": "light"
     },
     "output_type": "display_data"
    }
   ],
   "source": [
    "import seaborn as sb\n",
    "sb.violinplot(x='feedback',y='no_of_words',data=df)"
   ]
  },
  {
   "cell_type": "code",
   "execution_count": 21,
   "metadata": {
    "colab": {
     "base_uri": "https://localhost:8080/",
     "height": 283
    },
    "id": "yJ_m6YdY3MUh",
    "outputId": "c1795e7a-ba44-41d8-f342-bd704207ff19"
   },
   "outputs": [
    {
     "data": {
      "text/plain": [
       "<AxesSubplot:>"
      ]
     },
     "execution_count": 21,
     "metadata": {},
     "output_type": "execute_result"
    },
    {
     "data": {
      "image/png": "[encoded data removed]",
      "text/plain": [
       "<Figure size 432x288 with 1 Axes>"
      ]
     },
     "metadata": {
      "needs_background": "light"
     },
     "output_type": "display_data"
    }
   ],
   "source": [
    "df.loc[df['feedback'] == 0,['no_of_words']].boxplot()"
   ]
  },
  {
   "cell_type": "code",
   "execution_count": 22,
   "metadata": {
    "colab": {
     "base_uri": "https://localhost:8080/",
     "height": 283
    },
    "id": "W9ukTNcz3Emn",
    "outputId": "a131b72c-ca49-4cc3-ea7f-7a9d9803adaf"
   },
   "outputs": [
    {
     "data": {
      "text/plain": [
       "<AxesSubplot:>"
      ]
     },
     "execution_count": 22,
     "metadata": {},
     "output_type": "execute_result"
    },
    {
     "data": {
      "image/png": "[encoded data removed]",
      "text/plain": [
       "<Figure size 432x288 with 1 Axes>"
      ]
     },
     "metadata": {
      "needs_background": "light"
     },
     "output_type": "display_data"
    }
   ],
   "source": [
    "df.loc[df['feedback'] == 1,['no_of_words']].boxplot()"
   ]
  },
  {
   "cell_type": "markdown",
   "metadata": {
    "id": "-v3r2hRB4X4N"
   },
   "source": [
    "# Split X & Y"
   ]
  },
  {
   "cell_type": "code",
   "execution_count": 23,
   "metadata": {
    "colab": {
     "base_uri": "https://localhost:8080/"
    },
    "id": "Kwzono0P4dg3",
    "outputId": "923c49a0-627c-40ca-b06d-60984e1a1b01"
   },
   "outputs": [
    {
     "name": "stdout",
     "output_type": "stream",
     "text": [
      "<class 'pandas.core.frame.DataFrame'>\n",
      "RangeIndex: 3150 entries, 0 to 3149\n",
      "Data columns (total 7 columns):\n",
      " #   Column            Non-Null Count  Dtype \n",
      "---  ------            --------------  ----- \n",
      " 0   rating            3150 non-null   int64 \n",
      " 1   date              3150 non-null   object\n",
      " 2   variation         3150 non-null   object\n",
      " 3   verified_reviews  3150 non-null   object\n",
      " 4   feedback          3150 non-null   int64 \n",
      " 5   length            3150 non-null   int64 \n",
      " 6   no_of_words       3150 non-null   int64 \n",
      "dtypes: int64(4), object(3)\n",
      "memory usage: 172.4+ KB\n"
     ]
    }
   ],
   "source": [
    "df.info()"
   ]
  },
  {
   "cell_type": "code",
   "execution_count": 24,
   "metadata": {
    "id": "-NAoHsyO4kd3"
   },
   "outputs": [],
   "source": [
    "X = df.loc[:,['verified_reviews', 'length','no_of_words']]\n",
    "Y = df.loc[:,['feedback']]"
   ]
  },
  {
   "cell_type": "code",
   "execution_count": 25,
   "metadata": {
    "colab": {
     "base_uri": "https://localhost:8080/"
    },
    "id": "exxIf1qt4y4a",
    "outputId": "0d756017-e15b-4536-ebac-a4042131fd76"
   },
   "outputs": [
    {
     "data": {
      "text/plain": [
       "((3150, 3), (3150, 1))"
      ]
     },
     "execution_count": 25,
     "metadata": {},
     "output_type": "execute_result"
    }
   ],
   "source": [
    "X.shape,Y.shape"
   ]
  },
  {
   "cell_type": "markdown",
   "metadata": {
    "id": "CHNWVg2M4adD"
   },
   "source": [
    "# Split Train test"
   ]
  },
  {
   "cell_type": "code",
   "execution_count": 26,
   "metadata": {
    "id": "wHu_J_nD5GJC"
   },
   "outputs": [],
   "source": [
    "from sklearn.model_selection import train_test_split\n",
    "X_train, X_test, Y_train, Y_test = train_test_split(X, Y, test_size=0.1 , random_state=7, stratify=Y)"
   ]
  },
  {
   "cell_type": "code",
   "execution_count": 27,
   "metadata": {
    "colab": {
     "base_uri": "https://localhost:8080/"
    },
    "id": "eWnx0fTg5Uij",
    "outputId": "2675859e-ebbe-473d-997b-679a0f4bf0fc"
   },
   "outputs": [
    {
     "data": {
      "text/plain": [
       "((2835, 3), (315, 3), (2835, 1), (315, 1))"
      ]
     },
     "execution_count": 27,
     "metadata": {},
     "output_type": "execute_result"
    }
   ],
   "source": [
    "X_train.shape, X_test.shape, Y_train.shape, Y_test.shape"
   ]
  },
  {
   "cell_type": "code",
   "execution_count": 28,
   "metadata": {
    "colab": {
     "base_uri": "https://localhost:8080/"
    },
    "id": "yG5erpuV5k1k",
    "outputId": "de44be68-d172-4973-b742-202a25cd898d"
   },
   "outputs": [
    {
     "data": {
      "text/plain": [
       "1    0.918519\n",
       "0    0.081481\n",
       "Name: feedback, dtype: float64"
      ]
     },
     "execution_count": 28,
     "metadata": {},
     "output_type": "execute_result"
    }
   ],
   "source": [
    "Y_train['feedback'].value_counts(normalize=True)"
   ]
  },
  {
   "cell_type": "code",
   "execution_count": 29,
   "metadata": {
    "colab": {
     "base_uri": "https://localhost:8080/"
    },
    "id": "z5gr360N5wzX",
    "outputId": "822cbd7c-8b46-4515-de3d-db112d81788f"
   },
   "outputs": [
    {
     "data": {
      "text/plain": [
       "1    0.91746\n",
       "0    0.08254\n",
       "Name: feedback, dtype: float64"
      ]
     },
     "execution_count": 29,
     "metadata": {},
     "output_type": "execute_result"
    }
   ],
   "source": [
    "Y_test['feedback'].value_counts(normalize=True)"
   ]
  },
  {
   "cell_type": "markdown",
   "metadata": {
    "id": "aACWzEvq0XiQ"
   },
   "source": [
    "# Do undersampling to balance the data"
   ]
  },
  {
   "cell_type": "code",
   "execution_count": 30,
   "metadata": {
    "id": "p2zcyFaRzIVs"
   },
   "outputs": [],
   "source": [
    "from imblearn.under_sampling import RandomUnderSampler \n",
    "rus = RandomUnderSampler( random_state=7) \n",
    "#sampling_strategy option here--> use it to take more samples from positive feedback class\n",
    "X_train_un, Y_train_un = rus.fit_resample(X_train, Y_train)"
   ]
  },
  {
   "cell_type": "code",
   "execution_count": 31,
   "metadata": {
    "colab": {
     "base_uri": "https://localhost:8080/"
    },
    "id": "1PD4xhHv9aX2",
    "outputId": "20958358-feb4-4b8a-a918-a7db05f11c6a"
   },
   "outputs": [
    {
     "data": {
      "text/plain": [
       "((462, 3), (462, 1))"
      ]
     },
     "execution_count": 31,
     "metadata": {},
     "output_type": "execute_result"
    }
   ],
   "source": [
    "X_train_un.shape, Y_train_un.shape"
   ]
  },
  {
   "cell_type": "code",
   "execution_count": 32,
   "metadata": {
    "colab": {
     "base_uri": "https://localhost:8080/"
    },
    "id": "9I15SVfD9eFQ",
    "outputId": "6a9fb06b-a07e-4028-f929-47467e80a51e"
   },
   "outputs": [
    {
     "data": {
      "text/plain": [
       "feedback\n",
       "0           231\n",
       "1           231\n",
       "dtype: int64"
      ]
     },
     "execution_count": 32,
     "metadata": {},
     "output_type": "execute_result"
    }
   ],
   "source": [
    "Y_train_un.value_counts()"
   ]
  },
  {
   "cell_type": "markdown",
   "metadata": {
    "id": "jlg2PjkS-tpW"
   },
   "source": [
    "# Do data cleaning of 'verified reviews' using Spacy"
   ]
  },
  {
   "cell_type": "code",
   "execution_count": 33,
   "metadata": {
    "id": "g0Hg0gO69kio"
   },
   "outputs": [],
   "source": [
    "def cleaning_step(all_text):\n",
    "  \"\"\"Clean the text after tokenization from spacy\"\"\"\n",
    "  clean_text = []\n",
    "  for line in all_text:\n",
    "    clean_line = []\n",
    "    for token in line:\n",
    "      if token.is_stop == True:\n",
    "        pass\n",
    "      elif token.like_num == True:\n",
    "        clean_line.append('num')\n",
    "      elif token.like_email == True:\n",
    "        clean_line.append('email')\n",
    "      elif token.like_url == True:\n",
    "        clean_line.append('url')\n",
    "      elif token.__len__() <=2:\n",
    "        pass\n",
    "      elif (token.is_punct == True) or (token.is_quote == True):\n",
    "        pass\n",
    "      else:\n",
    "        clean_line.append(token.lemma_.lower())\n",
    "    clean_line = \" \".join(clean_line)\n",
    "    clean_text.append(clean_line)\n",
    "  return clean_text"
   ]
  },
  {
   "cell_type": "code",
   "execution_count": 34,
   "metadata": {
    "id": "IttM7665-13o"
   },
   "outputs": [],
   "source": [
    "def text_cleaning_spacy(df_text,spacy_model=None,training=True):\n",
    "  if(training==True):\n",
    "    import spacy\n",
    "    spacy_model = spacy.load('en_core_web_sm')\n",
    "\n",
    "  all_text = df_text.apply(spacy_model)\n",
    "  clean_text = cleaning_step(all_text)\n",
    "  return clean_text, spacy_model"
   ]
  },
  {
   "cell_type": "code",
   "execution_count": 35,
   "metadata": {
    "id": "2QlVYdxxDnT5"
   },
   "outputs": [],
   "source": [
    "clean_text, spacy_model = text_cleaning_spacy(X_train_un['verified_reviews'],training=True)"
   ]
  },
  {
   "cell_type": "code",
   "execution_count": 36,
   "metadata": {
    "id": "Cs5ZxcivEKbD"
   },
   "outputs": [],
   "source": [
    "X_train_un['clean_text'] = clean_text"
   ]
  },
  {
   "cell_type": "code",
   "execution_count": 37,
   "metadata": {
    "colab": {
     "base_uri": "https://localhost:8080/"
    },
    "id": "Nplz3N5WEUmD",
    "outputId": "99261526-0d39-4494-b16b-8ce1f81117ea"
   },
   "outputs": [
    {
     "data": {
      "text/plain": [
       "0    fine spot exact massive failing order turn rep...\n",
       "1    device interact home fill apple device disappo...\n",
       "2    recommend load netflix rare occasion run progr...\n",
       "3    initially echo dot work time dot stop respond ...\n",
       "4    work num month stop connect internet wifi trou...\n",
       "Name: clean_text, dtype: object"
      ]
     },
     "execution_count": 37,
     "metadata": {},
     "output_type": "execute_result"
    }
   ],
   "source": [
    "X_train_un['clean_text'].head()"
   ]
  },
  {
   "cell_type": "code",
   "execution_count": 38,
   "metadata": {
    "id": "pE1NcBm9Ef4c"
   },
   "outputs": [],
   "source": [
    "clean_text, spacy_model = text_cleaning_spacy(X_test['verified_reviews'],spacy_model,training=False)"
   ]
  },
  {
   "cell_type": "code",
   "execution_count": 39,
   "metadata": {
    "id": "OYHlQzlEFoN3"
   },
   "outputs": [],
   "source": [
    "X_test['clean_text'] = clean_text"
   ]
  },
  {
   "cell_type": "code",
   "execution_count": 40,
   "metadata": {
    "colab": {
     "base_uri": "https://localhost:8080/"
    },
    "id": "4nOfTltyFsha",
    "outputId": "38a2ce53-eed7-4435-c22e-abe5065b77bc"
   },
   "outputs": [
    {
     "data": {
      "text/plain": [
       "1429    love thing good toy buy awhile far smart plug ...\n",
       "246                                      echo great small\n",
       "2034                                   exchange new color\n",
       "2007    absolutely love thing well rechargeable play m...\n",
       "1965                                       love echo plus\n",
       "Name: clean_text, dtype: object"
      ]
     },
     "execution_count": 40,
     "metadata": {},
     "output_type": "execute_result"
    }
   ],
   "source": [
    "X_test['clean_text'].head()"
   ]
  },
  {
   "cell_type": "markdown",
   "metadata": {
    "id": "hLU_PfVzIVaz"
   },
   "source": [
    "# Apply TF-IDF and generate the matrix"
   ]
  },
  {
   "cell_type": "code",
   "execution_count": 41,
   "metadata": {
    "id": "cIGASKJOIZXM"
   },
   "outputs": [],
   "source": [
    "def apply_tfidf(clean_text,training = True,tfidf_model = None):\n",
    "  from sklearn.feature_extraction.text import TfidfVectorizer\n",
    "  if training == True:\n",
    "    TfidfVec = TfidfVectorizer(stop_words='english')\n",
    "    TfidfVec.fit(clean_text)\n",
    "    tfidf_model = TfidfVec\n",
    "    tfidf_data = tfidf_model.transform(clean_text)\n",
    "    print(\"Vocalibulary length \", len(TfidfVec.vocabulary_))\n",
    "  elif tfidf_model != None:\n",
    "    tfidf_data = tfidf_model.transform(clean_text)\n",
    "  else:\n",
    "    print(\"Either training should be true or tfidf model should be provided!\")\n",
    "  return tfidf_data, tfidf_model"
   ]
  },
  {
   "cell_type": "code",
   "execution_count": 42,
   "metadata": {
    "colab": {
     "base_uri": "https://localhost:8080/"
    },
    "id": "RLFNi4rPIsel",
    "outputId": "b631798a-c1f2-4738-ebec-d7319fbd4eb8"
   },
   "outputs": [
    {
     "name": "stdout",
     "output_type": "stream",
     "text": [
      "Vocalibulary length  1285\n"
     ]
    }
   ],
   "source": [
    "tf_idf_train, tfidf_model = apply_tfidf(X_train_un['clean_text'],training = True)"
   ]
  },
  {
   "cell_type": "code",
   "execution_count": 43,
   "metadata": {
    "id": "FZpa-CuQI4g1"
   },
   "outputs": [],
   "source": [
    "tf_idf_test, tfidf_model = apply_tfidf(X_test['clean_text'],training = False, tfidf_model = tfidf_model)"
   ]
  },
  {
   "cell_type": "code",
   "execution_count": 44,
   "metadata": {
    "colab": {
     "base_uri": "https://localhost:8080/"
    },
    "id": "7Ym0yRl1JDIY",
    "outputId": "d7f31372-9186-422c-bb6d-7ec53fd00b4c"
   },
   "outputs": [
    {
     "data": {
      "text/plain": [
       "((462, 1285), (315, 1285))"
      ]
     },
     "execution_count": 44,
     "metadata": {},
     "output_type": "execute_result"
    }
   ],
   "source": [
    "tf_idf_train.shape, tf_idf_test.shape"
   ]
  },
  {
   "cell_type": "markdown",
   "metadata": {
    "id": "G9fKdhy1HtpA"
   },
   "source": [
    "# Applying classifiers on this data"
   ]
  },
  {
   "cell_type": "markdown",
   "metadata": {},
   "source": [
    "# MultinomialNB"
   ]
  },
  {
   "cell_type": "code",
   "execution_count": 46,
   "metadata": {
    "scrolled": true
   },
   "outputs": [
    {
     "name": "stdout",
     "output_type": "stream",
     "text": [
      "              precision    recall  f1-score   support\n",
      "\n",
      "           0       0.30      0.92      0.45        26\n",
      "           1       0.99      0.81      0.89       289\n",
      "\n",
      "    accuracy                           0.82       315\n",
      "   macro avg       0.65      0.86      0.67       315\n",
      "weighted avg       0.93      0.82      0.85       315\n",
      "\n",
      "0.8158730158730159\n"
     ]
    },
    {
     "name": "stderr",
     "output_type": "stream",
     "text": [
      "C:\\Users\\moizk\\Anaconda3\\lib\\site-packages\\sklearn\\utils\\validation.py:1111: DataConversionWarning: A column-vector y was passed when a 1d array was expected. Please change the shape of y to (n_samples, ), for example using ravel().\n",
      "  y = column_or_1d(y, warn=True)\n"
     ]
    }
   ],
   "source": [
    "from sklearn.naive_bayes import MultinomialNB\n",
    "from sklearn.metrics import classification_report\n",
    "from sklearn.metrics import accuracy_score\n",
    "multinomial=MultinomialNB()\n",
    "multinomial.fit(tf_idf_train,Y_train_un)\n",
    "Y_pred = multinomial.predict(tf_idf_test)\n",
    "print(classification_report(Y_test, Y_pred))\n",
    "print(accuracy_score(Y_test, Y_pred))"
   ]
  },
  {
   "cell_type": "markdown",
   "metadata": {},
   "source": [
    "# RandomForestClassifier"
   ]
  },
  {
   "cell_type": "code",
   "execution_count": 47,
   "metadata": {
    "colab": {
     "base_uri": "https://localhost:8080/"
    },
    "id": "Wx_IS2CXFvWV",
    "outputId": "1b5eac51-81c8-4984-c1ba-3406324c9e6b",
    "scrolled": true
   },
   "outputs": [
    {
     "name": "stderr",
     "output_type": "stream",
     "text": [
      "C:\\Users\\moizk\\AppData\\Local\\Temp/ipykernel_10604/3226135927.py:3: DataConversionWarning: A column-vector y was passed when a 1d array was expected. Please change the shape of y to (n_samples,), for example using ravel().\n",
      "  rf.fit(tf_idf_train,Y_train_un)\n"
     ]
    },
    {
     "name": "stdout",
     "output_type": "stream",
     "text": [
      "              precision    recall  f1-score   support\n",
      "\n",
      "           0       0.25      0.92      0.40        26\n",
      "           1       0.99      0.75      0.86       289\n",
      "\n",
      "    accuracy                           0.77       315\n",
      "   macro avg       0.62      0.84      0.63       315\n",
      "weighted avg       0.93      0.77      0.82       315\n",
      "\n",
      "0.7682539682539683\n"
     ]
    }
   ],
   "source": [
    "from sklearn.ensemble import RandomForestClassifier\n",
    "rf = RandomForestClassifier(random_state=7)\n",
    "rf.fit(tf_idf_train,Y_train_un)\n",
    "Y_pred = rf.predict(tf_idf_test)\n",
    "print(classification_report(Y_test, Y_pred))\n",
    "print(accuracy_score(Y_test, Y_pred))"
   ]
  },
  {
   "cell_type": "markdown",
   "metadata": {},
   "source": [
    "# BaggingClassifier(base_estimator=SVC)"
   ]
  },
  {
   "cell_type": "code",
   "execution_count": 48,
   "metadata": {
    "scrolled": true
   },
   "outputs": [
    {
     "name": "stdout",
     "output_type": "stream",
     "text": [
      "              precision    recall  f1-score   support\n",
      "\n",
      "           0       0.25      0.96      0.39        26\n",
      "           1       1.00      0.74      0.85       289\n",
      "\n",
      "    accuracy                           0.76       315\n",
      "   macro avg       0.62      0.85      0.62       315\n",
      "weighted avg       0.93      0.76      0.81       315\n",
      "\n",
      "0.7555555555555555\n"
     ]
    },
    {
     "name": "stderr",
     "output_type": "stream",
     "text": [
      "C:\\Users\\moizk\\Anaconda3\\lib\\site-packages\\sklearn\\ensemble\\_bagging.py:760: DataConversionWarning: A column-vector y was passed when a 1d array was expected. Please change the shape of y to (n_samples, ), for example using ravel().\n",
      "  y = column_or_1d(y, warn=True)\n"
     ]
    }
   ],
   "source": [
    "from sklearn.svm import SVC\n",
    "from sklearn.ensemble import BaggingClassifier\n",
    "bgc=BaggingClassifier(base_estimator=SVC())\n",
    "bgc.fit(tf_idf_train,Y_train_un)\n",
    "Y_pred = bgc.predict(tf_idf_test)\n",
    "print(classification_report(Y_test, Y_pred))\n",
    "print(accuracy_score(Y_test, Y_pred))"
   ]
  },
  {
   "cell_type": "markdown",
   "metadata": {},
   "source": [
    "# LogisticRegression"
   ]
  },
  {
   "cell_type": "code",
   "execution_count": 49,
   "metadata": {},
   "outputs": [
    {
     "name": "stdout",
     "output_type": "stream",
     "text": [
      "              precision    recall  f1-score   support\n",
      "\n",
      "           0       0.24      0.92      0.38        26\n",
      "           1       0.99      0.73      0.84       289\n",
      "\n",
      "    accuracy                           0.75       315\n",
      "   macro avg       0.61      0.83      0.61       315\n",
      "weighted avg       0.93      0.75      0.80       315\n",
      "\n",
      "0.746031746031746\n"
     ]
    },
    {
     "name": "stderr",
     "output_type": "stream",
     "text": [
      "C:\\Users\\moizk\\Anaconda3\\lib\\site-packages\\sklearn\\utils\\validation.py:1111: DataConversionWarning: A column-vector y was passed when a 1d array was expected. Please change the shape of y to (n_samples, ), for example using ravel().\n",
      "  y = column_or_1d(y, warn=True)\n"
     ]
    }
   ],
   "source": [
    "from sklearn.linear_model import LogisticRegression\n",
    "logistic=LogisticRegression()\n",
    "logistic.fit(tf_idf_train,Y_train_un)\n",
    "Y_pred = logistic.predict(tf_idf_test)\n",
    "print(classification_report(Y_test, Y_pred))\n",
    "print(accuracy_score(Y_test, Y_pred))"
   ]
  },
  {
   "cell_type": "markdown",
   "metadata": {},
   "source": [
    "# AdaBoostClassifier"
   ]
  },
  {
   "cell_type": "code",
   "execution_count": 50,
   "metadata": {
    "scrolled": true
   },
   "outputs": [
    {
     "name": "stdout",
     "output_type": "stream",
     "text": [
      "              precision    recall  f1-score   support\n",
      "\n",
      "           0       0.20      0.85      0.33        26\n",
      "           1       0.98      0.70      0.82       289\n",
      "\n",
      "    accuracy                           0.71       315\n",
      "   macro avg       0.59      0.77      0.57       315\n",
      "weighted avg       0.92      0.71      0.78       315\n",
      "\n",
      "0.7142857142857143\n"
     ]
    },
    {
     "name": "stderr",
     "output_type": "stream",
     "text": [
      "C:\\Users\\moizk\\Anaconda3\\lib\\site-packages\\sklearn\\utils\\validation.py:1111: DataConversionWarning: A column-vector y was passed when a 1d array was expected. Please change the shape of y to (n_samples, ), for example using ravel().\n",
      "  y = column_or_1d(y, warn=True)\n"
     ]
    }
   ],
   "source": [
    "from sklearn.ensemble import AdaBoostClassifier\n",
    "adam=AdaBoostClassifier()\n",
    "adam.fit(tf_idf_train,Y_train_un)\n",
    "Y_pred = adam.predict(tf_idf_test)\n",
    "print(classification_report(Y_test, Y_pred))\n",
    "print(accuracy_score(Y_test, Y_pred))"
   ]
  },
  {
   "cell_type": "markdown",
   "metadata": {},
   "source": [
    "# XGBClassifier"
   ]
  },
  {
   "cell_type": "code",
   "execution_count": 51,
   "metadata": {
    "scrolled": true
   },
   "outputs": [
    {
     "name": "stdout",
     "output_type": "stream",
     "text": [
      "              precision    recall  f1-score   support\n",
      "\n",
      "           0       0.21      0.92      0.34        26\n",
      "           1       0.99      0.69      0.81       289\n",
      "\n",
      "    accuracy                           0.70       315\n",
      "   macro avg       0.60      0.80      0.58       315\n",
      "weighted avg       0.93      0.70      0.77       315\n",
      "\n",
      "0.7047619047619048\n"
     ]
    }
   ],
   "source": [
    "from xgboost import XGBClassifier\n",
    "xgb=XGBClassifier()\n",
    "xgb.fit(tf_idf_train,Y_train_un)\n",
    "Y_pred = xgb.predict(tf_idf_test)\n",
    "print(classification_report(Y_test, Y_pred))\n",
    "print(accuracy_score(Y_test, Y_pred))"
   ]
  },
  {
   "cell_type": "markdown",
   "metadata": {},
   "source": [
    "# DecisionTreeClassifier"
   ]
  },
  {
   "cell_type": "code",
   "execution_count": 52,
   "metadata": {},
   "outputs": [
    {
     "name": "stdout",
     "output_type": "stream",
     "text": [
      "              precision    recall  f1-score   support\n",
      "\n",
      "           0       0.20      0.85      0.32        26\n",
      "           1       0.98      0.69      0.81       289\n",
      "\n",
      "    accuracy                           0.70       315\n",
      "   macro avg       0.59      0.77      0.56       315\n",
      "weighted avg       0.92      0.70      0.77       315\n",
      "\n",
      "0.7015873015873015\n"
     ]
    }
   ],
   "source": [
    "from sklearn.tree import DecisionTreeClassifier\n",
    "tree=DecisionTreeClassifier()\n",
    "tree.fit(tf_idf_train,Y_train_un)\n",
    "Y_pred = tree.predict(tf_idf_test)\n",
    "print(classification_report(Y_test, Y_pred))\n",
    "print(accuracy_score(Y_test, Y_pred))"
   ]
  }
 ],
 "metadata": {
  "colab": {
   "collapsed_sections": [],
   "provenance": []
  },
  "kernelspec": {
   "display_name": "Python 3 (ipykernel)",
   "language": "python",
   "name": "python3"
  },
  "language_info": {
   "codemirror_mode": {
    "name": "ipython",
    "version": 3
   },
   "file_extension": ".py",
   "mimetype": "text/x-python",
   "name": "python",
   "nbconvert_exporter": "python",
   "pygments_lexer": "ipython3",
   "version": "3.9.7"
  },
  "vscode": {
   "interpreter": {
    "hash": "5c58081ada51fa0fe0d04f64760a06ea5aa51538639809b40ce4442872ebc684"
   }
  }
 },
 "nbformat": 4,
 "nbformat_minor": 1
}
